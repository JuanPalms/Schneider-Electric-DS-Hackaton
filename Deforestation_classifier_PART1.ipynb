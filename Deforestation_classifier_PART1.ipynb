{
 "cells": [
  {
   "cell_type": "markdown",
   "id": "c7194a09-db88-4700-9368-5de68343ebe5",
   "metadata": {},
   "source": [
    "# Schneider Electric  Data Science challenge"
   ]
  },
  {
   "cell_type": "markdown",
   "id": "02050277-9e10-45e2-8764-d3bf412d79f6",
   "metadata": {},
  },
  {
   "cell_type": "markdown",
   "id": "4d880723-ba8d-4ee4-817c-619c2430ec69",
   "metadata": {},
   "source": [
    "### PART I : Image preprocessing"
   ]
  },
  {
   "cell_type": "markdown",
   "id": "80c10202-e55a-4866-ad65-b47653f13e50",
   "metadata": {},
   "source": [
    "### Task: Predit the type of deforestation\n",
    "\n",
    "1) Plantation: Label 0\n",
    "2) Grassland/Shrubland: Label 1\n",
    "3) Smallholder Agriculture:Label 2"
   ]
  },
  {
   "cell_type": "code",
   "execution_count": 1,
   "id": "e6af3aae-9505-4827-b692-6321c233cf51",
   "metadata": {},
   "outputs": [
    {
     "ename": "ModuleNotFoundError",
     "evalue": "No module named 'nu'",
     "output_type": "error",
     "traceback": [
      "\u001b[0;31m---------------------------------------------------------------------------\u001b[0m",
      "\u001b[0;31mModuleNotFoundError\u001b[0m                       Traceback (most recent call last)",
      "Input \u001b[0;32mIn [1]\u001b[0m, in \u001b[0;36m<cell line: 2>\u001b[0;34m()\u001b[0m\n\u001b[1;32m      1\u001b[0m \u001b[38;5;28;01mimport\u001b[39;00m \u001b[38;5;21;01mpandas\u001b[39;00m \u001b[38;5;28;01mas\u001b[39;00m \u001b[38;5;21;01mpd\u001b[39;00m\n\u001b[0;32m----> 2\u001b[0m \u001b[38;5;28;01mimport\u001b[39;00m \u001b[38;5;21;01mnu\u001b[39;00m\n",
      "\u001b[0;31mModuleNotFoundError\u001b[0m: No module named 'nu'"
     ]
    }
   ],
   "source": [
    "import pandas as pd\n",
    "import nu"
   ]
  },
  {
   "cell_type": "code",
   "execution_count": 1,
   "id": "c145b859-d72b-444c-b161-d0bb3887695c",
   "metadata": {},
   "outputs": [],
   "source": [
    "import pandas as pd\n",
    "import numpy as np\n",
    "import matplotlib.pyplot as plt\n",
    "import os\n",
    "import shutil\n",
    "import seaborn as sns\n",
    "from sklearn.utils import shuffle\n",
    "from sklearn.model_selection import train_test_split"
   ]
  },
  {
   "cell_type": "code",
   "execution_count": 2,
   "id": "fd6f15c2-d37f-4f75-98dc-e9c98841a106",
   "metadata": {},
   "outputs": [],
   "source": [
    "train_paths=pd.read_csv('train.csv')"
   ]
  },
  {
   "cell_type": "code",
   "execution_count": 3,
   "id": "834f043f-c81a-40a2-a4cd-2186b779c665",
   "metadata": {},
   "outputs": [],
   "source": [
    "test_paths=pd.read_csv('test.csv')"
   ]
  },
  {
   "cell_type": "markdown",
   "id": "8cac0768-a68b-4a5a-a3f9-c92aa403be34",
   "metadata": {},
   "source": [
    "### Exploratory Data Analysis"
   ]
  },
  {
   "cell_type": "markdown",
   "id": "5d87a9cd-f1d7-4259-a19c-ca27a393646f",
   "metadata": {},
   "source": [
    "1) Assesing if the classes are balanced"
   ]
  },
  {
   "cell_type": "code",
   "execution_count": 4,
   "id": "aef724f9-4678-4c41-b7ad-585a844f2d33",
   "metadata": {},
   "outputs": [
    {
     "data": {
      "text/plain": [
       "0    860\n",
       "2    658\n",
       "1    196\n",
       "Name: label, dtype: int64"
      ]
     },
     "execution_count": 4,
     "metadata": {},
     "output_type": "execute_result"
    }
   ],
   "source": [
    "train_paths['label'].value_counts()"
   ]
  },
  {
   "cell_type": "markdown",
   "id": "d5342414-7370-418d-b905-91fe405f4dda",
   "metadata": {},
   "source": [
    "We observe unbalanced clases"
   ]
  },
  {
   "cell_type": "code",
   "execution_count": 5,
   "id": "76e66f70-8b61-497b-9e78-ae39b55fc81e",
   "metadata": {},
   "outputs": [
    {
     "data": {
      "text/plain": [
       "<Figure size 2520x3240 with 0 Axes>"
      ]
     },
     "metadata": {},
     "output_type": "display_data"
    },
    {
     "data": {
      "image/png": "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\n",
      "text/plain": [
       "<Figure size 435.6x396 with 1 Axes>"
      ]
     },
     "metadata": {
      "needs_background": "light"
     },
     "output_type": "display_data"
    }
   ],
   "source": [
    "plt.figure(figsize=(35, 45))\n",
    "graf_labels=sns.catplot(x='label',data=train_paths, kind='count', height=5.5,aspect=1.1) \n",
    "plt.title(\"Deforestation classes\", fontsize=15);\n"
   ]
  },
  {
   "cell_type": "markdown",
   "id": "c02f2007-c944-4cbf-afdb-8aa77890314a",
   "metadata": {},
   "source": [
    "###  Dividing the train set in train and validation"
   ]
  },
  {
   "cell_type": "code",
   "execution_count": 6,
   "id": "90756e2a-384c-4356-82d5-3c3fd8dca1ef",
   "metadata": {},
   "outputs": [
    {
     "name": "stdout",
     "output_type": "stream",
     "text": [
      "1371 343\n"
     ]
    }
   ],
   "source": [
    "X_train, X_val, y_train, y_val = train_test_split(train_paths[['label', 'example_path']], \n",
    "                                                  train_paths[['label']], \n",
    "                                                  test_size=0.2, \n",
    "                                                  random_state=101)\n",
    "\n",
    "print(len(X_train), len(X_val))"
   ]
  },
  {
   "cell_type": "code",
   "execution_count": 7,
   "id": "1cfc7ce9-4b69-4f25-9537-9f732524d477",
   "metadata": {},
   "outputs": [
    {
     "data": {
      "text/plain": [
       "0    0.486506\n",
       "2    0.395332\n",
       "1    0.118162\n",
       "Name: label, dtype: float64"
      ]
     },
     "execution_count": 7,
     "metadata": {},
     "output_type": "execute_result"
    }
   ],
   "source": [
    "X_train['label'].value_counts(normalize=True)"
   ]
  },
  {
   "cell_type": "code",
   "execution_count": 8,
   "id": "a65389dc-e3c7-4c9d-9c9e-ad14f8775d75",
   "metadata": {},
   "outputs": [
    {
     "data": {
      "text/plain": [
       "0    0.562682\n",
       "2    0.338192\n",
       "1    0.099125\n",
       "Name: label, dtype: float64"
      ]
     },
     "execution_count": 8,
     "metadata": {},
     "output_type": "execute_result"
    }
   ],
   "source": [
    "X_val['label'].value_counts(normalize=True)"
   ]
  },
  {
   "cell_type": "code",
   "execution_count": 9,
   "id": "8e8e7358-e24b-4d78-9857-3a1b7f066ef4",
   "metadata": {},
   "outputs": [],
   "source": [
    "import PIL\n",
    "from PIL import Image"
   ]
  },
  {
   "cell_type": "markdown",
   "id": "65e28c86-90ae-4b17-b1b7-bc3dd0dcbd10",
   "metadata": {},
   "source": [
    "### Ordering images"
   ]
  },
  {
   "cell_type": "code",
   "execution_count": 10,
   "id": "39b58c41-0766-4b59-8acd-adf7384a8c6d",
   "metadata": {},
   "outputs": [],
   "source": [
    "labels=[0,1,2]"
   ]
  },
  {
   "cell_type": "markdown",
   "id": "1d45492d-68ca-41cc-8e4f-1b7488b09b45",
   "metadata": {},
   "source": [
    "Separate training data per labels"
   ]
  },
  {
   "cell_type": "code",
   "execution_count": 11,
   "id": "39a661ff-53f4-4e64-8a30-b1a68bd2aae8",
   "metadata": {},
   "outputs": [],
   "source": [
    "#Iterate over labels in order to create a separate file for each class\n",
    "for label in labels:\n",
    "    path=\"./train_test_data/training/\"+str(label)\n",
    "    os.makedirs(path)\n",
    "    train=X_train[X_train['label']==label]\n",
    "    for image in train['example_path']:\n",
    "        shutil.copy(image, path)"
   ]
  },
  {
   "cell_type": "markdown",
   "id": "643737f9-f857-42a4-a932-d459fb19233c",
   "metadata": {},
   "source": [
    "Separate validation data per labels"
   ]
  },
  {
   "cell_type": "code",
   "execution_count": 12,
   "id": "67b6e79d-793d-4ef4-83b3-846fd0d86eff",
   "metadata": {},
   "outputs": [],
   "source": [
    "#Iterate over labels in order to create a separate file for each class\n",
    "for label in labels:\n",
    "    path=\"./train_test_data/validation/\"+str(label)\n",
    "    os.makedirs(path)\n",
    "    val=X_val[X_val['label']==label]\n",
    "    for image in val['example_path']:\n",
    "        shutil.copy(image, path)"
   ]
  },
  {
   "cell_type": "markdown",
   "id": "de2be38b-92d0-4376-82d0-5feb3a3eb262",
   "metadata": {},
   "source": [
    "### Dealing with undersampling"
   ]
  },
  {
   "cell_type": "markdown",
   "id": "6168e1e6-0681-49d6-aba0-828df636b622",
   "metadata": {},
   "source": [
    "#### Create a list of images in undersampled class folder"
   ]
  },
  {
   "cell_type": "code",
   "execution_count": 22,
   "id": "1705499b-b5c8-42e1-ba99-6f761f0207f5",
   "metadata": {},
   "outputs": [],
   "source": [
    "Class0=list(os.listdir(os.getcwd()+'/train_test_data/training/0'))\n",
    "Class1=list(os.listdir(os.getcwd()+'/train_test_data/training/1'))\n",
    "Class2=list(os.listdir(os.getcwd()+'/train_test_data/training/2'))"
   ]
  },
  {
   "cell_type": "code",
   "execution_count": 23,
   "id": "9fb60d29-8513-43f8-9a7e-508f5ae96678",
   "metadata": {},
   "outputs": [
    {
     "name": "stdout",
     "output_type": "stream",
     "text": [
      "667\n",
      "648\n",
      "542\n"
     ]
    }
   ],
   "source": [
    "print(len(Class0))\n",
    "print(len(Class1))\n",
    "print(len(Class2))"
   ]
  },
  {
   "cell_type": "code",
   "execution_count": 24,
   "id": "d874bcaa-b799-4d72-805e-8741dffa7651",
   "metadata": {},
   "outputs": [],
   "source": [
    "Class0v=list(os.listdir(os.getcwd()+'/train_test_data/validation/0'))\n",
    "Class1v=list(os.listdir(os.getcwd()+'/train_test_data/validation/1'))\n",
    "Class2v=list(os.listdir(os.getcwd()+'/train_test_data/validation/2'))"
   ]
  },
  {
   "cell_type": "code",
   "execution_count": 25,
   "id": "e2e7ac0b-991a-43c4-bbf4-47e5cfed5e26",
   "metadata": {},
   "outputs": [
    {
     "name": "stdout",
     "output_type": "stream",
     "text": [
      "193\n",
      "136\n",
      "116\n"
     ]
    }
   ],
   "source": [
    "print(len(Class0v))\n",
    "print(len(Class1v))\n",
    "print(len(Class2v))"
   ]
  },
  {
   "cell_type": "markdown",
   "id": "ca538d27-af9d-438e-889d-803a4ebb9a88",
   "metadata": {},
   "source": [
    "#### Solve underbalance and avoiding overfitting in the underbalanced class"
   ]
  },
  {
   "cell_type": "code",
   "execution_count": 17,
   "id": "69e57508-e0ce-4ed9-ab19-64379929a3c2",
   "metadata": {},
   "outputs": [],
   "source": [
    "from CF_Tools import AugmentedImages"
   ]
  },
  {
   "cell_type": "code",
   "execution_count": 18,
   "id": "9cc13f48-9b90-4645-af7f-03eeee47949d",
   "metadata": {},
   "outputs": [],
   "source": [
    "def AugmentedImages(path, rotation):\n",
    "  # for each image in the current directory\n",
    "  for image in os.listdir(path):\n",
    "    # open the image\n",
    "    img = Image.open(path+'/'+image)\n",
    "    # rotate\n",
    "    img.rotate(rotation).save(path+\"/\"+\"rotated\"+image)\n",
    "    img.transpose(PIL.Image.FLIP_TOP_BOTTOM).save(path+\"/\"+\"flipped_bot\"+image)\n",
    "    img.transpose(PIL.Image.FLIP_LEFT_RIGHT).save(path+\"/\"+\"flipped_lr\"+image)\n",
    "    # close the image\n",
    "    img.close()"
   ]
  },
  {
   "cell_type": "code",
   "execution_count": 19,
   "id": "e945bb01-ed63-4fa1-b809-5ceb8004cfe7",
   "metadata": {},
   "outputs": [
    {
     "name": "stderr",
     "output_type": "stream",
     "text": [
      "/tmp/ipykernel_242359/3113262164.py:8: DeprecationWarning: FLIP_TOP_BOTTOM is deprecated and will be removed in Pillow 10 (2023-07-01). Use Transpose.FLIP_TOP_BOTTOM instead.\n",
      "  img.transpose(PIL.Image.FLIP_TOP_BOTTOM).save(path+\"/\"+\"flipped_bot\"+image)\n",
      "/tmp/ipykernel_242359/3113262164.py:9: DeprecationWarning: FLIP_LEFT_RIGHT is deprecated and will be removed in Pillow 10 (2023-07-01). Use Transpose.FLIP_LEFT_RIGHT instead.\n",
      "  img.transpose(PIL.Image.FLIP_LEFT_RIGHT).save(path+\"/\"+\"flipped_lr\"+image)\n"
     ]
    }
   ],
   "source": [
    "AugmentedImages(os.getcwd()+'/train_test_data/training/1/',20)"
   ]
  },
  {
   "cell_type": "code",
   "execution_count": 20,
   "id": "d05393ae-8e89-4368-a612-3b8491055ea3",
   "metadata": {},
   "outputs": [
    {
     "name": "stderr",
     "output_type": "stream",
     "text": [
      "/tmp/ipykernel_242359/3113262164.py:8: DeprecationWarning: FLIP_TOP_BOTTOM is deprecated and will be removed in Pillow 10 (2023-07-01). Use Transpose.FLIP_TOP_BOTTOM instead.\n",
      "  img.transpose(PIL.Image.FLIP_TOP_BOTTOM).save(path+\"/\"+\"flipped_bot\"+image)\n",
      "/tmp/ipykernel_242359/3113262164.py:9: DeprecationWarning: FLIP_LEFT_RIGHT is deprecated and will be removed in Pillow 10 (2023-07-01). Use Transpose.FLIP_LEFT_RIGHT instead.\n",
      "  img.transpose(PIL.Image.FLIP_LEFT_RIGHT).save(path+\"/\"+\"flipped_lr\"+image)\n"
     ]
    }
   ],
   "source": [
    "AugmentedImages(os.getcwd()+'/train_test_data/validation/1/',35)"
   ]
  }
 ],
 "metadata": {
  "kernelspec": {
   "display_name": "Python 3 (ipykernel)",
   "language": "python",
   "name": "python3"
  },
  "language_info": {
   "codemirror_mode": {
    "name": "ipython",
    "version": 3
   },
   "file_extension": ".py",
   "mimetype": "text/x-python",
   "name": "python",
   "nbconvert_exporter": "python",
   "pygments_lexer": "ipython3",
   "version": "3.10.6"
  }
 },
 "nbformat": 4,
 "nbformat_minor": 5
}
